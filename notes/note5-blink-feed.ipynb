{
 "cells": [
  {
   "cell_type": "code",
   "execution_count": 59,
   "id": "41b126be-8f7f-4b77-b134-b869e4576f03",
   "metadata": {},
   "outputs": [],
   "source": [
    "import cv2 as cv\n",
    "import dlib\n",
    "import numpy as np\n",
    "import datetime\n",
    "from IPython.display import clear_output"
   ]
  },
  {
   "cell_type": "code",
   "execution_count": 96,
   "id": "1772f639-63c8-4acd-838d-324f19e0fe7e",
   "metadata": {},
   "outputs": [],
   "source": [
    "class PredictorBlinkClass:\n",
    "    def __init__(self, threshold):\n",
    "        self.detector = dlib.get_frontal_face_detector()\n",
    "        self.predictor = dlib.shape_predictor('models/shape_predictor_68_face_landmarks.dat')\n",
    "        self.right_eye = (36, 42)\n",
    "        self.left_eye = (42, 48)\n",
    "        self.threshold = threshold\n",
    "        self.blinks = 0\n",
    "        self.crossed_right = False\n",
    "        self.crossed_left = False\n",
    "        self.time_crossed = 0\n",
    "        self.blink_time = 1000\n",
    "        self.prop = 1.15\n",
    "    \n",
    "    def rect_to_ndarray(self, shape, length):\n",
    "        coords = np.zeros((length, 2), dtype=\"int\")\n",
    "        for i in range(0, length):\n",
    "            coords[i] = (shape.part(i).x, shape.part(i).y)\n",
    "        return coords\n",
    "\n",
    "    def distance(self, p1, p2):\n",
    "        temp = p1 - p2\n",
    "        return np.sqrt(np.dot(temp.T, temp))\n",
    "\n",
    "    def get_ear(self, eye):\n",
    "        a = self.distance(eye[1], eye[5])\n",
    "        b = self.distance(eye[2], eye[4])\n",
    "        c = self.distance(eye[0], eye[3])\n",
    "        return (a + b) / (2 * c)\n",
    "\n",
    "    def set_threshold(self, threshold):\n",
    "        self.threshold = threshold\n",
    "\n",
    "    def set_blinks(self, blinks):\n",
    "        self.blinks = blinks\n",
    "\n",
    "    def predict(self, image_color, time, RGB=(0, 0, 255)):\n",
    "        image_predicted = image_color.copy()\n",
    "        image_gray = cv.cvtColor(image_color, cv.COLOR_BGR2GRAY)\n",
    "        faceboxes = self.detector(image_gray, 1)\n",
    "        ear_right = 0.0\n",
    "        ear_left = 0.0\n",
    "        \n",
    "        for facebox in faceboxes:\n",
    "            if self.time_crossed > 0 and time - self.time_crossed > self.blink_time:\n",
    "                break\n",
    "            \n",
    "            predicted = self.predictor(image_gray, facebox)\n",
    "            landmarks = self.rect_to_ndarray(predicted, 68)\n",
    "            \n",
    "            # eye coordinates\n",
    "            right, left = landmarks[self.right_eye[0]:self.right_eye[1]], landmarks[self.left_eye[0]:self.left_eye[1]]\n",
    "            # get ear for each eye\n",
    "            ear_right, ear_left = self.get_ear(right), self.get_ear(left)\n",
    "\n",
    "            if (ear_right < self.threshold or ear_left < self.threshold):\n",
    "                self.crossed_right = True\n",
    "                self.crossed_left = True\n",
    "                self.time_crossed = time\n",
    "                \n",
    "            \n",
    "            if (self.crossed_right == True and ear_right > self.threshold * self.prop) or (self.crossed_left == True and ear_left > self.threshold * self.prop):\n",
    "                self.crossed_right = False\n",
    "                self.crossed_left = False\n",
    "                self.time_crossed = 0\n",
    "                self.blinks += 1\n",
    "            \n",
    "            for eye in [right, left]:\n",
    "                for (x, y) in eye:\n",
    "                    cv.circle(image_predicted, (x, y), 2, RGB, -1)\n",
    "                    cv.circle(image_predicted, (x, y), 2, RGB, -1)\n",
    "        \n",
    "        cv.putText(image_predicted, f\"Blinks: {self.blinks}\", (50, 50), cv.FONT_HERSHEY_PLAIN, 2, (0, 0, 255), 1)\n",
    "        cv.putText(image_predicted, f\"RightEAR: {round(ear_right, 3)}\", (350, 50), cv.FONT_HERSHEY_PLAIN, 2, (0, 0, 255), 1)\n",
    "        cv.putText(image_predicted, f\"LeftEAR: {round(ear_left, 3)}\", (350, 100), cv.FONT_HERSHEY_PLAIN, 2, (0, 0, 255), 1)\n",
    "        cv.putText(image_predicted, f\"Threshold: {self.threshold}\", (50, 400), cv.FONT_HERSHEY_PLAIN, 2, (0, 0, 255), 1)\n",
    "        cv.putText(image_predicted, f\"Time: {time}\", (350, 400), cv.FONT_HERSHEY_PLAIN, 2, (0, 0, 255), 1)\n",
    "        return image_predicted"
   ]
  },
  {
   "cell_type": "code",
   "execution_count": 40,
   "id": "b1a2d10a-571e-45df-843b-2e23b38f17be",
   "metadata": {},
   "outputs": [],
   "source": [
    "def show_feed(feed, title, wait=1, rewind=False):\n",
    "    retval, frame_color = feed.read()\n",
    "    if not retval:\n",
    "        return 1 # check value did not pass\n",
    "\n",
    "    cv.namedWindow(title, cv.WINDOW_AUTOSIZE)\n",
    "    cv.setWindowProperty(title, cv.WND_PROP_VISIBLE, 1)\n",
    "    time = datetime.datetime.now()\n",
    "    \n",
    "    while retval:\n",
    "        time_delta = datetime.datetime.now() - time\n",
    "        time_delta = int(time_delta.total_seconds() * 1000)\n",
    "        predicted = predictor.predict(frame_color, time_delta)\n",
    "        cv.imshow(title, predicted)\n",
    "        \n",
    "        key_input = cv.waitKey(wait)\n",
    "        if key_input != -1:\n",
    "            break;\n",
    "        \n",
    "        retval, frame_color = feed.read()\n",
    "    \n",
    "    try:\n",
    "        if rewind: # Rewind VideoCapture object for video files\n",
    "            feed.set(cv.CAP_PROP_POS_MSEC, 0.0)\n",
    "        cv.destroyWindow(title)\n",
    "        \n",
    "    except:\n",
    "        print(\"'\" + title + \"' not found\")"
   ]
  },
  {
   "cell_type": "code",
   "execution_count": 97,
   "id": "1f5a0284-ccf9-45cf-ae72-5dafc71bbf25",
   "metadata": {},
   "outputs": [],
   "source": [
    "predictor = PredictorBlinkClass(0.135)"
   ]
  },
  {
   "cell_type": "code",
   "execution_count": 30,
   "id": "30279017-33e5-4837-beac-0033d0e6c0e6",
   "metadata": {},
   "outputs": [],
   "source": [
    "webcam_index = 0\n",
    "webcam = cv.VideoCapture(webcam_index)"
   ]
  },
  {
   "cell_type": "code",
   "execution_count": 101,
   "id": "77cb73cb-e84d-4744-814d-2408610d3ec5",
   "metadata": {},
   "outputs": [],
   "source": [
    "predictor.set_threshold(0.20)\n",
    "predictor.set_blinks(0)\n",
    "show_feed(webcam, \"Blink Detector\", wait=1, rewind=True)"
   ]
  },
  {
   "cell_type": "code",
   "execution_count": 29,
   "id": "ae7298a7-4b87-4866-aa9b-339500d592fb",
   "metadata": {},
   "outputs": [],
   "source": [
    "webcam.release()"
   ]
  },
  {
   "cell_type": "code",
   "execution_count": 91,
   "id": "c5edd3e6-298a-4993-b258-229fa05a14b9",
   "metadata": {},
   "outputs": [],
   "source": [
    "cv.destroyWindow('Blink Detector')"
   ]
  }
 ],
 "metadata": {
  "kernelspec": {
   "display_name": "Python 3 (ipykernel)",
   "language": "python",
   "name": "python3"
  },
  "language_info": {
   "codemirror_mode": {
    "name": "ipython",
    "version": 3
   },
   "file_extension": ".py",
   "mimetype": "text/x-python",
   "name": "python",
   "nbconvert_exporter": "python",
   "pygments_lexer": "ipython3",
   "version": "3.8.10"
  }
 },
 "nbformat": 4,
 "nbformat_minor": 5
}
